{
 "cells": [
  {
   "cell_type": "markdown",
   "metadata": {},
   "source": [
    "# This Feature Selection project was done as a part of my screening process for ABAL Research Labs (https://www.abalresearch.com) during the fall of 2019.\n",
    "\n",
    "##### I was provided an accounting dataset from Compustat Quarterly, and was to told to perform feature selection so that the dataset can be used by other statistians and RAs working as ABAL to build models. This code was written in September 2019."
   ]
  },
  {
   "cell_type": "markdown",
   "metadata": {},
   "source": [
    "## Feature selection or attribute selection is the process of choosing features or attributes that are relevant to the problem at hand. It is done :\n",
    "\n",
    "1. to simplify the dataset and insrease understanding of the problem\n",
    "2. to reduce training and computation time of the models\n",
    "3. to evade the curse of dimensionality\n",
    "\n",
    "(Wiki: https://en.wikipedia.org/wiki/Feature_selection)"
   ]
  },
  {
   "cell_type": "markdown",
   "metadata": {},
   "source": [
    "First order of business is importing necessary libraries, reading and evaluating the data."
   ]
  },
  {
   "cell_type": "code",
   "execution_count": 34,
   "metadata": {},
   "outputs": [],
   "source": [
    "import pandas as pd\n",
    "import numpy as np"
   ]
  },
  {
   "cell_type": "code",
   "execution_count": 2,
   "metadata": {},
   "outputs": [
    {
     "name": "stderr",
     "output_type": "stream",
     "text": [
      "/usr/local/lib/python3.7/site-packages/IPython/core/interactiveshell.py:3058: DtypeWarning: Columns (17,22,375,376) have mixed types. Specify dtype option on import or set low_memory=False.\n",
      "  interactivity=interactivity, compiler=compiler, result=result)\n"
     ]
    },
    {
     "data": {
      "text/plain": [
       "array([dtype('int64'), dtype('O'), dtype('float64')], dtype=object)"
      ]
     },
     "execution_count": 2,
     "metadata": {},
     "output_type": "execute_result"
    }
   ],
   "source": [
    "df = pd.read_csv(\"ReduceData.csv\")"
   ]
  },
  {
   "cell_type": "code",
   "execution_count": 3,
   "metadata": {},
   "outputs": [
    {
     "data": {
      "text/html": [
       "<div>\n",
       "<style scoped>\n",
       "    .dataframe tbody tr th:only-of-type {\n",
       "        vertical-align: middle;\n",
       "    }\n",
       "\n",
       "    .dataframe tbody tr th {\n",
       "        vertical-align: top;\n",
       "    }\n",
       "\n",
       "    .dataframe thead th {\n",
       "        text-align: right;\n",
       "    }\n",
       "</style>\n",
       "<table border=\"1\" class=\"dataframe\">\n",
       "  <thead>\n",
       "    <tr style=\"text-align: right;\">\n",
       "      <th></th>\n",
       "      <th>GVKEY</th>\n",
       "      <th>DATADATE</th>\n",
       "      <th>FYEAR</th>\n",
       "      <th>TIC</th>\n",
       "      <th>DLRSN</th>\n",
       "      <th>FYRC</th>\n",
       "      <th>GIND</th>\n",
       "      <th>NAICS</th>\n",
       "      <th>SPCINDCD</th>\n",
       "      <th>SPCSECCD</th>\n",
       "      <th>...</th>\n",
       "      <th>PRCH_C</th>\n",
       "      <th>PRCH_F</th>\n",
       "      <th>PRCL_C</th>\n",
       "      <th>PRCL_F</th>\n",
       "      <th>CONSOL</th>\n",
       "      <th>INDFMT</th>\n",
       "      <th>DATAFMT</th>\n",
       "      <th>POPSRC</th>\n",
       "      <th>CURCD</th>\n",
       "      <th>COSTAT</th>\n",
       "    </tr>\n",
       "  </thead>\n",
       "  <tbody>\n",
       "    <tr>\n",
       "      <td>0</td>\n",
       "      <td>1004</td>\n",
       "      <td>20110531</td>\n",
       "      <td>2010</td>\n",
       "      <td>AIR</td>\n",
       "      <td>NaN</td>\n",
       "      <td>5</td>\n",
       "      <td>201010.0</td>\n",
       "      <td>423860.0</td>\n",
       "      <td>110.0</td>\n",
       "      <td>925.0</td>\n",
       "      <td>...</td>\n",
       "      <td>28.61</td>\n",
       "      <td>29.05</td>\n",
       "      <td>14.91</td>\n",
       "      <td>14.91</td>\n",
       "      <td>C</td>\n",
       "      <td>INDL</td>\n",
       "      <td>STD</td>\n",
       "      <td>D</td>\n",
       "      <td>USD</td>\n",
       "      <td>A</td>\n",
       "    </tr>\n",
       "    <tr>\n",
       "      <td>1</td>\n",
       "      <td>1004</td>\n",
       "      <td>20120531</td>\n",
       "      <td>2011</td>\n",
       "      <td>AIR</td>\n",
       "      <td>NaN</td>\n",
       "      <td>5</td>\n",
       "      <td>201010.0</td>\n",
       "      <td>423860.0</td>\n",
       "      <td>110.0</td>\n",
       "      <td>925.0</td>\n",
       "      <td>...</td>\n",
       "      <td>31.66</td>\n",
       "      <td>31.66</td>\n",
       "      <td>14.96</td>\n",
       "      <td>12.02</td>\n",
       "      <td>C</td>\n",
       "      <td>INDL</td>\n",
       "      <td>STD</td>\n",
       "      <td>D</td>\n",
       "      <td>USD</td>\n",
       "      <td>A</td>\n",
       "    </tr>\n",
       "    <tr>\n",
       "      <td>2</td>\n",
       "      <td>1004</td>\n",
       "      <td>20130531</td>\n",
       "      <td>2012</td>\n",
       "      <td>AIR</td>\n",
       "      <td>NaN</td>\n",
       "      <td>5</td>\n",
       "      <td>201010.0</td>\n",
       "      <td>423860.0</td>\n",
       "      <td>110.0</td>\n",
       "      <td>925.0</td>\n",
       "      <td>...</td>\n",
       "      <td>23.67</td>\n",
       "      <td>20.87</td>\n",
       "      <td>10.00</td>\n",
       "      <td>10.00</td>\n",
       "      <td>C</td>\n",
       "      <td>INDL</td>\n",
       "      <td>STD</td>\n",
       "      <td>D</td>\n",
       "      <td>USD</td>\n",
       "      <td>A</td>\n",
       "    </tr>\n",
       "    <tr>\n",
       "      <td>3</td>\n",
       "      <td>1004</td>\n",
       "      <td>20140531</td>\n",
       "      <td>2013</td>\n",
       "      <td>AIR</td>\n",
       "      <td>NaN</td>\n",
       "      <td>5</td>\n",
       "      <td>201010.0</td>\n",
       "      <td>423860.0</td>\n",
       "      <td>110.0</td>\n",
       "      <td>925.0</td>\n",
       "      <td>...</td>\n",
       "      <td>31.55</td>\n",
       "      <td>31.55</td>\n",
       "      <td>16.02</td>\n",
       "      <td>19.98</td>\n",
       "      <td>C</td>\n",
       "      <td>INDL</td>\n",
       "      <td>STD</td>\n",
       "      <td>D</td>\n",
       "      <td>USD</td>\n",
       "      <td>A</td>\n",
       "    </tr>\n",
       "    <tr>\n",
       "      <td>4</td>\n",
       "      <td>1004</td>\n",
       "      <td>20150531</td>\n",
       "      <td>2014</td>\n",
       "      <td>AIR</td>\n",
       "      <td>NaN</td>\n",
       "      <td>5</td>\n",
       "      <td>201010.0</td>\n",
       "      <td>423860.0</td>\n",
       "      <td>110.0</td>\n",
       "      <td>925.0</td>\n",
       "      <td>...</td>\n",
       "      <td>31.41</td>\n",
       "      <td>34.24</td>\n",
       "      <td>22.37</td>\n",
       "      <td>22.37</td>\n",
       "      <td>C</td>\n",
       "      <td>INDL</td>\n",
       "      <td>STD</td>\n",
       "      <td>D</td>\n",
       "      <td>USD</td>\n",
       "      <td>A</td>\n",
       "    </tr>\n",
       "  </tbody>\n",
       "</table>\n",
       "<p>5 rows × 448 columns</p>\n",
       "</div>"
      ],
      "text/plain": [
       "   GVKEY  DATADATE  FYEAR  TIC  DLRSN  FYRC      GIND     NAICS  SPCINDCD  \\\n",
       "0   1004  20110531   2010  AIR    NaN     5  201010.0  423860.0     110.0   \n",
       "1   1004  20120531   2011  AIR    NaN     5  201010.0  423860.0     110.0   \n",
       "2   1004  20130531   2012  AIR    NaN     5  201010.0  423860.0     110.0   \n",
       "3   1004  20140531   2013  AIR    NaN     5  201010.0  423860.0     110.0   \n",
       "4   1004  20150531   2014  AIR    NaN     5  201010.0  423860.0     110.0   \n",
       "\n",
       "   SPCSECCD  ... PRCH_C  PRCH_F  PRCL_C  PRCL_F  CONSOL  INDFMT  DATAFMT  \\\n",
       "0     925.0  ...  28.61   29.05   14.91   14.91       C    INDL      STD   \n",
       "1     925.0  ...  31.66   31.66   14.96   12.02       C    INDL      STD   \n",
       "2     925.0  ...  23.67   20.87   10.00   10.00       C    INDL      STD   \n",
       "3     925.0  ...  31.55   31.55   16.02   19.98       C    INDL      STD   \n",
       "4     925.0  ...  31.41   34.24   22.37   22.37       C    INDL      STD   \n",
       "\n",
       "  POPSRC CURCD COSTAT  \n",
       "0      D   USD      A  \n",
       "1      D   USD      A  \n",
       "2      D   USD      A  \n",
       "3      D   USD      A  \n",
       "4      D   USD      A  \n",
       "\n",
       "[5 rows x 448 columns]"
      ]
     },
     "execution_count": 3,
     "metadata": {},
     "output_type": "execute_result"
    }
   ],
   "source": [
    "df.head()"
   ]
  },
  {
   "cell_type": "markdown",
   "metadata": {},
   "source": [
    "As it can be seen below that there are 448 features or attributes in the dataset. The data has integer, floating point and 'O' type values. 'O' type values are bacically Strings as can be seen in a cell below with attribute (\"DATAFMT\")."
   ]
  },
  {
   "cell_type": "code",
   "execution_count": 35,
   "metadata": {},
   "outputs": [
    {
     "data": {
      "text/plain": [
       "(374365, 419)"
      ]
     },
     "execution_count": 35,
     "metadata": {},
     "output_type": "execute_result"
    }
   ],
   "source": [
    "df.shape"
   ]
  },
  {
   "cell_type": "code",
   "execution_count": 5,
   "metadata": {},
   "outputs": [
    {
     "data": {
      "text/plain": [
       "array([dtype('int64'), dtype('O'), dtype('float64')], dtype=object)"
      ]
     },
     "execution_count": 5,
     "metadata": {},
     "output_type": "execute_result"
    }
   ],
   "source": [
    "df.dtypes.unique()"
   ]
  },
  {
   "cell_type": "code",
   "execution_count": 6,
   "metadata": {},
   "outputs": [
    {
     "name": "stdout",
     "output_type": "stream",
     "text": [
      "0         110.0\n",
      "1         110.0\n",
      "2         110.0\n",
      "3         110.0\n",
      "4         110.0\n",
      "          ...  \n",
      "374360    380.0\n",
      "374361    380.0\n",
      "374362    380.0\n",
      "374363    380.0\n",
      "374364    380.0\n",
      "Name: SPCINDCD, Length: 374365, dtype: float64\n",
      "---------\n"
     ]
    },
    {
     "data": {
      "text/plain": [
       "dtype('float64')"
      ]
     },
     "execution_count": 6,
     "metadata": {},
     "output_type": "execute_result"
    }
   ],
   "source": [
    "# df.iloc[[i],[j]]\n",
    "# here i is the row and j is the column.\n",
    "# note that the index are starting from 0 after excluding the first column\n",
    "\n",
    "print(df[\"SPCINDCD\"])\n",
    "print(\"---------\")\n",
    "\n",
    "df[\"SPCINDCD\"].dtype"
   ]
  },
  {
   "cell_type": "code",
   "execution_count": 7,
   "metadata": {},
   "outputs": [
    {
     "name": "stdout",
     "output_type": "stream",
     "text": [
      "0         STD\n",
      "1         STD\n",
      "2         STD\n",
      "3         STD\n",
      "4         STD\n",
      "         ... \n",
      "374360    STD\n",
      "374361    STD\n",
      "374362    STD\n",
      "374363    STD\n",
      "374364    STD\n",
      "Name: DATAFMT, Length: 374365, dtype: object\n",
      "---------\n"
     ]
    },
    {
     "data": {
      "text/plain": [
       "dtype('O')"
      ]
     },
     "execution_count": 7,
     "metadata": {},
     "output_type": "execute_result"
    }
   ],
   "source": [
    "print(df[\"DATAFMT\"])\n",
    "print(\"---------\")\n",
    "\n",
    "df[\"DATAFMT\"].dtype"
   ]
  },
  {
   "cell_type": "markdown",
   "metadata": {},
   "source": [
    "### For feature selection, I referred a blog (https://www.knime.com/blog/seven-techniques-for-data-dimensionality-reduction).\n",
    "\n",
    "The entire project was done in 4 phases."
   ]
  },
  {
   "cell_type": "markdown",
   "metadata": {},
   "source": [
    "#### Principal Component Analysis (PCA) was not used here for dimensionality reduction. This is because, PCA takes a bunch of features and return a new set of reduced features. Since interpretability of original features had to be maintained, PCA wasn't taken into consideration."
   ]
  },
  {
   "cell_type": "markdown",
   "metadata": {},
   "source": [
    "#### [1] First of all, features having a constant value throughout the dataset are dropped from the dataframe df"
   ]
  },
  {
   "cell_type": "code",
   "execution_count": 8,
   "metadata": {},
   "outputs": [
    {
     "name": "stdout",
     "output_type": "stream",
     "text": [
      "448\n",
      "-----------------\n",
      "['DPTC', 'FDFR', 'FFS', 'IST', 'IVPT', 'LCAO', 'LCUACU', 'NPAORE', 'NPAT', 'RAGR', 'RCL', 'RPAG', 'STBO', 'STIO', 'TDST', 'TRANSA', 'VPO', 'AMGW', 'CFPDO', 'NIINT', 'PCL', 'RIS', 'XAGT', 'XS', 'XT', 'CONSOL', 'INDFMT', 'DATAFMT', 'POPSRC']\n",
      "29\n"
     ]
    }
   ],
   "source": [
    "column_list = []\n",
    "for i in df.columns:\n",
    "    column_list.append(i)\n",
    "print(len(column_list))  \n",
    "print(\"-----------------\")\n",
    "constant_columns = []\n",
    "c=0\n",
    "for i in column_list:\n",
    "    if len(df[i].unique()) == 1:\n",
    "        c=c+1\n",
    "        constant_columns.append(i)\n",
    "print(constant_columns)\n",
    "print(c)  \n",
    "\n"
   ]
  },
  {
   "cell_type": "code",
   "execution_count": 9,
   "metadata": {},
   "outputs": [
    {
     "data": {
      "text/plain": [
       "(374365, 448)"
      ]
     },
     "execution_count": 9,
     "metadata": {},
     "output_type": "execute_result"
    }
   ],
   "source": [
    "df.shape"
   ]
  },
  {
   "cell_type": "markdown",
   "metadata": {},
   "source": [
    "Dataframe df is left with 419 features"
   ]
  },
  {
   "cell_type": "code",
   "execution_count": 10,
   "metadata": {},
   "outputs": [
    {
     "name": "stdout",
     "output_type": "stream",
     "text": [
      "(374365, 419)\n"
     ]
    }
   ],
   "source": [
    "# These 29 columns have a constant value throughout the entire file.\n",
    "# Hence, they can be removed from the dataset\n",
    "\n",
    "# 448 - 29 = 419 (Columns/Attributes/Features)\n",
    "\n",
    "df = df.drop(columns = constant_columns)\n",
    "print(df.shape)"
   ]
  },
  {
   "cell_type": "markdown",
   "metadata": {},
   "source": [
    "#### [2] Features which are strings are dropped from the dataframe. This is done because clustering algorithms like KNN won't be able to incorporate the string types becasue we cannot quantify strings."
   ]
  },
  {
   "cell_type": "code",
   "execution_count": 11,
   "metadata": {},
   "outputs": [
    {
     "name": "stdout",
     "output_type": "stream",
     "text": [
      "['TIC', 'SPCSRC', 'ACCTCHG', 'ACCTSTD', 'ACQMETH', 'OGM', 'CEOSO', 'CFOSO', 'CURCD', 'COSTAT']\n"
     ]
    }
   ],
   "source": [
    "#Now we'll remove the columns that are not interger or floating point\n",
    "\n",
    "list_obj_dtype = []\n",
    "for i in df:\n",
    "    if df[i].dtype != \"int64\" and df[i].dtype != \"float64\":\n",
    "#        print(str(df[i].dtype) + \"   \" + str(i))\n",
    "        list_obj_dtype.append(i)\n",
    "    \n",
    "print(list_obj_dtype)\n",
    "df2 = df.drop(columns = list_obj_dtype)"
   ]
  },
  {
   "cell_type": "markdown",
   "metadata": {},
   "source": [
    "As is can be seen below, another 10 features are removed and new dataframe \"df2\" is left with 409 features."
   ]
  },
  {
   "cell_type": "code",
   "execution_count": 12,
   "metadata": {},
   "outputs": [
    {
     "data": {
      "text/plain": [
       "(374365, 409)"
      ]
     },
     "execution_count": 12,
     "metadata": {},
     "output_type": "execute_result"
    }
   ],
   "source": [
    "df2.shape"
   ]
  },
  {
   "cell_type": "markdown",
   "metadata": {},
   "source": [
    "#### Imputation\n",
    "\n",
    "Imputation is the process of replacing missing values with substituted data.\n",
    "Here, I am replacing all NaN and Infinite values with the mean of that particular feature. "
   ]
  },
  {
   "cell_type": "code",
   "execution_count": 13,
   "metadata": {},
   "outputs": [
    {
     "data": {
      "text/html": [
       "<div>\n",
       "<style scoped>\n",
       "    .dataframe tbody tr th:only-of-type {\n",
       "        vertical-align: middle;\n",
       "    }\n",
       "\n",
       "    .dataframe tbody tr th {\n",
       "        vertical-align: top;\n",
       "    }\n",
       "\n",
       "    .dataframe thead th {\n",
       "        text-align: right;\n",
       "    }\n",
       "</style>\n",
       "<table border=\"1\" class=\"dataframe\">\n",
       "  <thead>\n",
       "    <tr style=\"text-align: right;\">\n",
       "      <th></th>\n",
       "      <th>GVKEY</th>\n",
       "      <th>DATADATE</th>\n",
       "      <th>FYEAR</th>\n",
       "      <th>DLRSN</th>\n",
       "      <th>FYRC</th>\n",
       "      <th>GIND</th>\n",
       "      <th>NAICS</th>\n",
       "      <th>SPCINDCD</th>\n",
       "      <th>SPCSECCD</th>\n",
       "      <th>STKO</th>\n",
       "      <th>...</th>\n",
       "      <th>DVPSP_F</th>\n",
       "      <th>DVPSX_C</th>\n",
       "      <th>DVPSX_F</th>\n",
       "      <th>MKVALT</th>\n",
       "      <th>PRCC_C</th>\n",
       "      <th>PRCC_F</th>\n",
       "      <th>PRCH_C</th>\n",
       "      <th>PRCH_F</th>\n",
       "      <th>PRCL_C</th>\n",
       "      <th>PRCL_F</th>\n",
       "    </tr>\n",
       "  </thead>\n",
       "  <tbody>\n",
       "    <tr>\n",
       "      <td>0</td>\n",
       "      <td>False</td>\n",
       "      <td>False</td>\n",
       "      <td>False</td>\n",
       "      <td>True</td>\n",
       "      <td>False</td>\n",
       "      <td>False</td>\n",
       "      <td>False</td>\n",
       "      <td>False</td>\n",
       "      <td>False</td>\n",
       "      <td>False</td>\n",
       "      <td>...</td>\n",
       "      <td>False</td>\n",
       "      <td>False</td>\n",
       "      <td>False</td>\n",
       "      <td>False</td>\n",
       "      <td>False</td>\n",
       "      <td>False</td>\n",
       "      <td>False</td>\n",
       "      <td>False</td>\n",
       "      <td>False</td>\n",
       "      <td>False</td>\n",
       "    </tr>\n",
       "    <tr>\n",
       "      <td>1</td>\n",
       "      <td>False</td>\n",
       "      <td>False</td>\n",
       "      <td>False</td>\n",
       "      <td>True</td>\n",
       "      <td>False</td>\n",
       "      <td>False</td>\n",
       "      <td>False</td>\n",
       "      <td>False</td>\n",
       "      <td>False</td>\n",
       "      <td>False</td>\n",
       "      <td>...</td>\n",
       "      <td>False</td>\n",
       "      <td>False</td>\n",
       "      <td>False</td>\n",
       "      <td>False</td>\n",
       "      <td>False</td>\n",
       "      <td>False</td>\n",
       "      <td>False</td>\n",
       "      <td>False</td>\n",
       "      <td>False</td>\n",
       "      <td>False</td>\n",
       "    </tr>\n",
       "    <tr>\n",
       "      <td>2</td>\n",
       "      <td>False</td>\n",
       "      <td>False</td>\n",
       "      <td>False</td>\n",
       "      <td>True</td>\n",
       "      <td>False</td>\n",
       "      <td>False</td>\n",
       "      <td>False</td>\n",
       "      <td>False</td>\n",
       "      <td>False</td>\n",
       "      <td>False</td>\n",
       "      <td>...</td>\n",
       "      <td>False</td>\n",
       "      <td>False</td>\n",
       "      <td>False</td>\n",
       "      <td>False</td>\n",
       "      <td>False</td>\n",
       "      <td>False</td>\n",
       "      <td>False</td>\n",
       "      <td>False</td>\n",
       "      <td>False</td>\n",
       "      <td>False</td>\n",
       "    </tr>\n",
       "    <tr>\n",
       "      <td>3</td>\n",
       "      <td>False</td>\n",
       "      <td>False</td>\n",
       "      <td>False</td>\n",
       "      <td>True</td>\n",
       "      <td>False</td>\n",
       "      <td>False</td>\n",
       "      <td>False</td>\n",
       "      <td>False</td>\n",
       "      <td>False</td>\n",
       "      <td>False</td>\n",
       "      <td>...</td>\n",
       "      <td>False</td>\n",
       "      <td>False</td>\n",
       "      <td>False</td>\n",
       "      <td>False</td>\n",
       "      <td>False</td>\n",
       "      <td>False</td>\n",
       "      <td>False</td>\n",
       "      <td>False</td>\n",
       "      <td>False</td>\n",
       "      <td>False</td>\n",
       "    </tr>\n",
       "    <tr>\n",
       "      <td>4</td>\n",
       "      <td>False</td>\n",
       "      <td>False</td>\n",
       "      <td>False</td>\n",
       "      <td>True</td>\n",
       "      <td>False</td>\n",
       "      <td>False</td>\n",
       "      <td>False</td>\n",
       "      <td>False</td>\n",
       "      <td>False</td>\n",
       "      <td>False</td>\n",
       "      <td>...</td>\n",
       "      <td>False</td>\n",
       "      <td>False</td>\n",
       "      <td>False</td>\n",
       "      <td>False</td>\n",
       "      <td>False</td>\n",
       "      <td>False</td>\n",
       "      <td>False</td>\n",
       "      <td>False</td>\n",
       "      <td>False</td>\n",
       "      <td>False</td>\n",
       "    </tr>\n",
       "    <tr>\n",
       "      <td>...</td>\n",
       "      <td>...</td>\n",
       "      <td>...</td>\n",
       "      <td>...</td>\n",
       "      <td>...</td>\n",
       "      <td>...</td>\n",
       "      <td>...</td>\n",
       "      <td>...</td>\n",
       "      <td>...</td>\n",
       "      <td>...</td>\n",
       "      <td>...</td>\n",
       "      <td>...</td>\n",
       "      <td>...</td>\n",
       "      <td>...</td>\n",
       "      <td>...</td>\n",
       "      <td>...</td>\n",
       "      <td>...</td>\n",
       "      <td>...</td>\n",
       "      <td>...</td>\n",
       "      <td>...</td>\n",
       "      <td>...</td>\n",
       "      <td>...</td>\n",
       "    </tr>\n",
       "    <tr>\n",
       "      <td>374360</td>\n",
       "      <td>False</td>\n",
       "      <td>False</td>\n",
       "      <td>False</td>\n",
       "      <td>False</td>\n",
       "      <td>False</td>\n",
       "      <td>False</td>\n",
       "      <td>False</td>\n",
       "      <td>False</td>\n",
       "      <td>False</td>\n",
       "      <td>False</td>\n",
       "      <td>...</td>\n",
       "      <td>True</td>\n",
       "      <td>True</td>\n",
       "      <td>True</td>\n",
       "      <td>True</td>\n",
       "      <td>True</td>\n",
       "      <td>True</td>\n",
       "      <td>True</td>\n",
       "      <td>True</td>\n",
       "      <td>True</td>\n",
       "      <td>True</td>\n",
       "    </tr>\n",
       "    <tr>\n",
       "      <td>374361</td>\n",
       "      <td>False</td>\n",
       "      <td>False</td>\n",
       "      <td>False</td>\n",
       "      <td>False</td>\n",
       "      <td>False</td>\n",
       "      <td>False</td>\n",
       "      <td>False</td>\n",
       "      <td>False</td>\n",
       "      <td>False</td>\n",
       "      <td>False</td>\n",
       "      <td>...</td>\n",
       "      <td>True</td>\n",
       "      <td>True</td>\n",
       "      <td>True</td>\n",
       "      <td>True</td>\n",
       "      <td>True</td>\n",
       "      <td>True</td>\n",
       "      <td>True</td>\n",
       "      <td>True</td>\n",
       "      <td>True</td>\n",
       "      <td>True</td>\n",
       "    </tr>\n",
       "    <tr>\n",
       "      <td>374362</td>\n",
       "      <td>False</td>\n",
       "      <td>False</td>\n",
       "      <td>False</td>\n",
       "      <td>False</td>\n",
       "      <td>False</td>\n",
       "      <td>False</td>\n",
       "      <td>False</td>\n",
       "      <td>False</td>\n",
       "      <td>False</td>\n",
       "      <td>False</td>\n",
       "      <td>...</td>\n",
       "      <td>True</td>\n",
       "      <td>True</td>\n",
       "      <td>True</td>\n",
       "      <td>True</td>\n",
       "      <td>True</td>\n",
       "      <td>True</td>\n",
       "      <td>True</td>\n",
       "      <td>True</td>\n",
       "      <td>True</td>\n",
       "      <td>True</td>\n",
       "    </tr>\n",
       "    <tr>\n",
       "      <td>374363</td>\n",
       "      <td>False</td>\n",
       "      <td>False</td>\n",
       "      <td>False</td>\n",
       "      <td>False</td>\n",
       "      <td>False</td>\n",
       "      <td>False</td>\n",
       "      <td>False</td>\n",
       "      <td>False</td>\n",
       "      <td>False</td>\n",
       "      <td>False</td>\n",
       "      <td>...</td>\n",
       "      <td>True</td>\n",
       "      <td>True</td>\n",
       "      <td>True</td>\n",
       "      <td>True</td>\n",
       "      <td>True</td>\n",
       "      <td>True</td>\n",
       "      <td>True</td>\n",
       "      <td>True</td>\n",
       "      <td>True</td>\n",
       "      <td>True</td>\n",
       "    </tr>\n",
       "    <tr>\n",
       "      <td>374364</td>\n",
       "      <td>False</td>\n",
       "      <td>False</td>\n",
       "      <td>False</td>\n",
       "      <td>False</td>\n",
       "      <td>False</td>\n",
       "      <td>False</td>\n",
       "      <td>False</td>\n",
       "      <td>False</td>\n",
       "      <td>False</td>\n",
       "      <td>False</td>\n",
       "      <td>...</td>\n",
       "      <td>True</td>\n",
       "      <td>True</td>\n",
       "      <td>True</td>\n",
       "      <td>True</td>\n",
       "      <td>True</td>\n",
       "      <td>True</td>\n",
       "      <td>True</td>\n",
       "      <td>True</td>\n",
       "      <td>True</td>\n",
       "      <td>True</td>\n",
       "    </tr>\n",
       "  </tbody>\n",
       "</table>\n",
       "<p>374365 rows × 409 columns</p>\n",
       "</div>"
      ],
      "text/plain": [
       "        GVKEY  DATADATE  FYEAR  DLRSN   FYRC   GIND  NAICS  SPCINDCD  \\\n",
       "0       False     False  False   True  False  False  False     False   \n",
       "1       False     False  False   True  False  False  False     False   \n",
       "2       False     False  False   True  False  False  False     False   \n",
       "3       False     False  False   True  False  False  False     False   \n",
       "4       False     False  False   True  False  False  False     False   \n",
       "...       ...       ...    ...    ...    ...    ...    ...       ...   \n",
       "374360  False     False  False  False  False  False  False     False   \n",
       "374361  False     False  False  False  False  False  False     False   \n",
       "374362  False     False  False  False  False  False  False     False   \n",
       "374363  False     False  False  False  False  False  False     False   \n",
       "374364  False     False  False  False  False  False  False     False   \n",
       "\n",
       "        SPCSECCD   STKO  ...  DVPSP_F  DVPSX_C  DVPSX_F  MKVALT  PRCC_C  \\\n",
       "0          False  False  ...    False    False    False   False   False   \n",
       "1          False  False  ...    False    False    False   False   False   \n",
       "2          False  False  ...    False    False    False   False   False   \n",
       "3          False  False  ...    False    False    False   False   False   \n",
       "4          False  False  ...    False    False    False   False   False   \n",
       "...          ...    ...  ...      ...      ...      ...     ...     ...   \n",
       "374360     False  False  ...     True     True     True    True    True   \n",
       "374361     False  False  ...     True     True     True    True    True   \n",
       "374362     False  False  ...     True     True     True    True    True   \n",
       "374363     False  False  ...     True     True     True    True    True   \n",
       "374364     False  False  ...     True     True     True    True    True   \n",
       "\n",
       "        PRCC_F  PRCH_C  PRCH_F  PRCL_C  PRCL_F  \n",
       "0        False   False   False   False   False  \n",
       "1        False   False   False   False   False  \n",
       "2        False   False   False   False   False  \n",
       "3        False   False   False   False   False  \n",
       "4        False   False   False   False   False  \n",
       "...        ...     ...     ...     ...     ...  \n",
       "374360    True    True    True    True    True  \n",
       "374361    True    True    True    True    True  \n",
       "374362    True    True    True    True    True  \n",
       "374363    True    True    True    True    True  \n",
       "374364    True    True    True    True    True  \n",
       "\n",
       "[374365 rows x 409 columns]"
      ]
     },
     "execution_count": 13,
     "metadata": {},
     "output_type": "execute_result"
    }
   ],
   "source": [
    "np.isnan(df2)"
   ]
  },
  {
   "cell_type": "code",
   "execution_count": 14,
   "metadata": {},
   "outputs": [],
   "source": [
    "df3 = df2.fillna(df2.mean())"
   ]
  },
  {
   "cell_type": "code",
   "execution_count": 15,
   "metadata": {},
   "outputs": [
    {
     "data": {
      "text/html": [
       "<div>\n",
       "<style scoped>\n",
       "    .dataframe tbody tr th:only-of-type {\n",
       "        vertical-align: middle;\n",
       "    }\n",
       "\n",
       "    .dataframe tbody tr th {\n",
       "        vertical-align: top;\n",
       "    }\n",
       "\n",
       "    .dataframe thead th {\n",
       "        text-align: right;\n",
       "    }\n",
       "</style>\n",
       "<table border=\"1\" class=\"dataframe\">\n",
       "  <thead>\n",
       "    <tr style=\"text-align: right;\">\n",
       "      <th></th>\n",
       "      <th>GVKEY</th>\n",
       "      <th>DATADATE</th>\n",
       "      <th>FYEAR</th>\n",
       "      <th>DLRSN</th>\n",
       "      <th>FYRC</th>\n",
       "      <th>GIND</th>\n",
       "      <th>NAICS</th>\n",
       "      <th>SPCINDCD</th>\n",
       "      <th>SPCSECCD</th>\n",
       "      <th>STKO</th>\n",
       "      <th>...</th>\n",
       "      <th>DVPSP_F</th>\n",
       "      <th>DVPSX_C</th>\n",
       "      <th>DVPSX_F</th>\n",
       "      <th>MKVALT</th>\n",
       "      <th>PRCC_C</th>\n",
       "      <th>PRCC_F</th>\n",
       "      <th>PRCH_C</th>\n",
       "      <th>PRCH_F</th>\n",
       "      <th>PRCL_C</th>\n",
       "      <th>PRCL_F</th>\n",
       "    </tr>\n",
       "  </thead>\n",
       "  <tbody>\n",
       "    <tr>\n",
       "      <td>0</td>\n",
       "      <td>False</td>\n",
       "      <td>False</td>\n",
       "      <td>False</td>\n",
       "      <td>False</td>\n",
       "      <td>False</td>\n",
       "      <td>False</td>\n",
       "      <td>False</td>\n",
       "      <td>False</td>\n",
       "      <td>False</td>\n",
       "      <td>False</td>\n",
       "      <td>...</td>\n",
       "      <td>False</td>\n",
       "      <td>False</td>\n",
       "      <td>False</td>\n",
       "      <td>False</td>\n",
       "      <td>False</td>\n",
       "      <td>False</td>\n",
       "      <td>False</td>\n",
       "      <td>False</td>\n",
       "      <td>False</td>\n",
       "      <td>False</td>\n",
       "    </tr>\n",
       "    <tr>\n",
       "      <td>1</td>\n",
       "      <td>False</td>\n",
       "      <td>False</td>\n",
       "      <td>False</td>\n",
       "      <td>False</td>\n",
       "      <td>False</td>\n",
       "      <td>False</td>\n",
       "      <td>False</td>\n",
       "      <td>False</td>\n",
       "      <td>False</td>\n",
       "      <td>False</td>\n",
       "      <td>...</td>\n",
       "      <td>False</td>\n",
       "      <td>False</td>\n",
       "      <td>False</td>\n",
       "      <td>False</td>\n",
       "      <td>False</td>\n",
       "      <td>False</td>\n",
       "      <td>False</td>\n",
       "      <td>False</td>\n",
       "      <td>False</td>\n",
       "      <td>False</td>\n",
       "    </tr>\n",
       "    <tr>\n",
       "      <td>2</td>\n",
       "      <td>False</td>\n",
       "      <td>False</td>\n",
       "      <td>False</td>\n",
       "      <td>False</td>\n",
       "      <td>False</td>\n",
       "      <td>False</td>\n",
       "      <td>False</td>\n",
       "      <td>False</td>\n",
       "      <td>False</td>\n",
       "      <td>False</td>\n",
       "      <td>...</td>\n",
       "      <td>False</td>\n",
       "      <td>False</td>\n",
       "      <td>False</td>\n",
       "      <td>False</td>\n",
       "      <td>False</td>\n",
       "      <td>False</td>\n",
       "      <td>False</td>\n",
       "      <td>False</td>\n",
       "      <td>False</td>\n",
       "      <td>False</td>\n",
       "    </tr>\n",
       "    <tr>\n",
       "      <td>3</td>\n",
       "      <td>False</td>\n",
       "      <td>False</td>\n",
       "      <td>False</td>\n",
       "      <td>False</td>\n",
       "      <td>False</td>\n",
       "      <td>False</td>\n",
       "      <td>False</td>\n",
       "      <td>False</td>\n",
       "      <td>False</td>\n",
       "      <td>False</td>\n",
       "      <td>...</td>\n",
       "      <td>False</td>\n",
       "      <td>False</td>\n",
       "      <td>False</td>\n",
       "      <td>False</td>\n",
       "      <td>False</td>\n",
       "      <td>False</td>\n",
       "      <td>False</td>\n",
       "      <td>False</td>\n",
       "      <td>False</td>\n",
       "      <td>False</td>\n",
       "    </tr>\n",
       "    <tr>\n",
       "      <td>4</td>\n",
       "      <td>False</td>\n",
       "      <td>False</td>\n",
       "      <td>False</td>\n",
       "      <td>False</td>\n",
       "      <td>False</td>\n",
       "      <td>False</td>\n",
       "      <td>False</td>\n",
       "      <td>False</td>\n",
       "      <td>False</td>\n",
       "      <td>False</td>\n",
       "      <td>...</td>\n",
       "      <td>False</td>\n",
       "      <td>False</td>\n",
       "      <td>False</td>\n",
       "      <td>False</td>\n",
       "      <td>False</td>\n",
       "      <td>False</td>\n",
       "      <td>False</td>\n",
       "      <td>False</td>\n",
       "      <td>False</td>\n",
       "      <td>False</td>\n",
       "    </tr>\n",
       "    <tr>\n",
       "      <td>...</td>\n",
       "      <td>...</td>\n",
       "      <td>...</td>\n",
       "      <td>...</td>\n",
       "      <td>...</td>\n",
       "      <td>...</td>\n",
       "      <td>...</td>\n",
       "      <td>...</td>\n",
       "      <td>...</td>\n",
       "      <td>...</td>\n",
       "      <td>...</td>\n",
       "      <td>...</td>\n",
       "      <td>...</td>\n",
       "      <td>...</td>\n",
       "      <td>...</td>\n",
       "      <td>...</td>\n",
       "      <td>...</td>\n",
       "      <td>...</td>\n",
       "      <td>...</td>\n",
       "      <td>...</td>\n",
       "      <td>...</td>\n",
       "      <td>...</td>\n",
       "    </tr>\n",
       "    <tr>\n",
       "      <td>374360</td>\n",
       "      <td>False</td>\n",
       "      <td>False</td>\n",
       "      <td>False</td>\n",
       "      <td>False</td>\n",
       "      <td>False</td>\n",
       "      <td>False</td>\n",
       "      <td>False</td>\n",
       "      <td>False</td>\n",
       "      <td>False</td>\n",
       "      <td>False</td>\n",
       "      <td>...</td>\n",
       "      <td>False</td>\n",
       "      <td>False</td>\n",
       "      <td>False</td>\n",
       "      <td>False</td>\n",
       "      <td>False</td>\n",
       "      <td>False</td>\n",
       "      <td>False</td>\n",
       "      <td>False</td>\n",
       "      <td>False</td>\n",
       "      <td>False</td>\n",
       "    </tr>\n",
       "    <tr>\n",
       "      <td>374361</td>\n",
       "      <td>False</td>\n",
       "      <td>False</td>\n",
       "      <td>False</td>\n",
       "      <td>False</td>\n",
       "      <td>False</td>\n",
       "      <td>False</td>\n",
       "      <td>False</td>\n",
       "      <td>False</td>\n",
       "      <td>False</td>\n",
       "      <td>False</td>\n",
       "      <td>...</td>\n",
       "      <td>False</td>\n",
       "      <td>False</td>\n",
       "      <td>False</td>\n",
       "      <td>False</td>\n",
       "      <td>False</td>\n",
       "      <td>False</td>\n",
       "      <td>False</td>\n",
       "      <td>False</td>\n",
       "      <td>False</td>\n",
       "      <td>False</td>\n",
       "    </tr>\n",
       "    <tr>\n",
       "      <td>374362</td>\n",
       "      <td>False</td>\n",
       "      <td>False</td>\n",
       "      <td>False</td>\n",
       "      <td>False</td>\n",
       "      <td>False</td>\n",
       "      <td>False</td>\n",
       "      <td>False</td>\n",
       "      <td>False</td>\n",
       "      <td>False</td>\n",
       "      <td>False</td>\n",
       "      <td>...</td>\n",
       "      <td>False</td>\n",
       "      <td>False</td>\n",
       "      <td>False</td>\n",
       "      <td>False</td>\n",
       "      <td>False</td>\n",
       "      <td>False</td>\n",
       "      <td>False</td>\n",
       "      <td>False</td>\n",
       "      <td>False</td>\n",
       "      <td>False</td>\n",
       "    </tr>\n",
       "    <tr>\n",
       "      <td>374363</td>\n",
       "      <td>False</td>\n",
       "      <td>False</td>\n",
       "      <td>False</td>\n",
       "      <td>False</td>\n",
       "      <td>False</td>\n",
       "      <td>False</td>\n",
       "      <td>False</td>\n",
       "      <td>False</td>\n",
       "      <td>False</td>\n",
       "      <td>False</td>\n",
       "      <td>...</td>\n",
       "      <td>False</td>\n",
       "      <td>False</td>\n",
       "      <td>False</td>\n",
       "      <td>False</td>\n",
       "      <td>False</td>\n",
       "      <td>False</td>\n",
       "      <td>False</td>\n",
       "      <td>False</td>\n",
       "      <td>False</td>\n",
       "      <td>False</td>\n",
       "    </tr>\n",
       "    <tr>\n",
       "      <td>374364</td>\n",
       "      <td>False</td>\n",
       "      <td>False</td>\n",
       "      <td>False</td>\n",
       "      <td>False</td>\n",
       "      <td>False</td>\n",
       "      <td>False</td>\n",
       "      <td>False</td>\n",
       "      <td>False</td>\n",
       "      <td>False</td>\n",
       "      <td>False</td>\n",
       "      <td>...</td>\n",
       "      <td>False</td>\n",
       "      <td>False</td>\n",
       "      <td>False</td>\n",
       "      <td>False</td>\n",
       "      <td>False</td>\n",
       "      <td>False</td>\n",
       "      <td>False</td>\n",
       "      <td>False</td>\n",
       "      <td>False</td>\n",
       "      <td>False</td>\n",
       "    </tr>\n",
       "  </tbody>\n",
       "</table>\n",
       "<p>374365 rows × 409 columns</p>\n",
       "</div>"
      ],
      "text/plain": [
       "        GVKEY  DATADATE  FYEAR  DLRSN   FYRC   GIND  NAICS  SPCINDCD  \\\n",
       "0       False     False  False  False  False  False  False     False   \n",
       "1       False     False  False  False  False  False  False     False   \n",
       "2       False     False  False  False  False  False  False     False   \n",
       "3       False     False  False  False  False  False  False     False   \n",
       "4       False     False  False  False  False  False  False     False   \n",
       "...       ...       ...    ...    ...    ...    ...    ...       ...   \n",
       "374360  False     False  False  False  False  False  False     False   \n",
       "374361  False     False  False  False  False  False  False     False   \n",
       "374362  False     False  False  False  False  False  False     False   \n",
       "374363  False     False  False  False  False  False  False     False   \n",
       "374364  False     False  False  False  False  False  False     False   \n",
       "\n",
       "        SPCSECCD   STKO  ...  DVPSP_F  DVPSX_C  DVPSX_F  MKVALT  PRCC_C  \\\n",
       "0          False  False  ...    False    False    False   False   False   \n",
       "1          False  False  ...    False    False    False   False   False   \n",
       "2          False  False  ...    False    False    False   False   False   \n",
       "3          False  False  ...    False    False    False   False   False   \n",
       "4          False  False  ...    False    False    False   False   False   \n",
       "...          ...    ...  ...      ...      ...      ...     ...     ...   \n",
       "374360     False  False  ...    False    False    False   False   False   \n",
       "374361     False  False  ...    False    False    False   False   False   \n",
       "374362     False  False  ...    False    False    False   False   False   \n",
       "374363     False  False  ...    False    False    False   False   False   \n",
       "374364     False  False  ...    False    False    False   False   False   \n",
       "\n",
       "        PRCC_F  PRCH_C  PRCH_F  PRCL_C  PRCL_F  \n",
       "0        False   False   False   False   False  \n",
       "1        False   False   False   False   False  \n",
       "2        False   False   False   False   False  \n",
       "3        False   False   False   False   False  \n",
       "4        False   False   False   False   False  \n",
       "...        ...     ...     ...     ...     ...  \n",
       "374360   False   False   False   False   False  \n",
       "374361   False   False   False   False   False  \n",
       "374362   False   False   False   False   False  \n",
       "374363   False   False   False   False   False  \n",
       "374364   False   False   False   False   False  \n",
       "\n",
       "[374365 rows x 409 columns]"
      ]
     },
     "execution_count": 15,
     "metadata": {},
     "output_type": "execute_result"
    }
   ],
   "source": [
    "np.isnan(df3)"
   ]
  },
  {
   "cell_type": "code",
   "execution_count": 16,
   "metadata": {},
   "outputs": [
    {
     "data": {
      "text/plain": [
       "(374365, 409)"
      ]
     },
     "execution_count": 16,
     "metadata": {},
     "output_type": "execute_result"
    }
   ],
   "source": [
    "df4 = df3.replace([np.inf, -np.inf], np.nan)\n",
    "df4 = df4.fillna(df4.mean())\n",
    "df4 = df4.round(4)\n",
    "df4.shape\n"
   ]
  },
  {
   "cell_type": "code",
   "execution_count": 19,
   "metadata": {},
   "outputs": [
    {
     "data": {
      "text/plain": [
       "False"
      ]
     },
     "execution_count": 19,
     "metadata": {},
     "output_type": "execute_result"
    }
   ],
   "source": [
    "df4.isnull().values.any()"
   ]
  },
  {
   "cell_type": "markdown",
   "metadata": {},
   "source": [
    "#### The dataframe \"df4\" is used from this point forward."
   ]
  },
  {
   "cell_type": "code",
   "execution_count": null,
   "metadata": {},
   "outputs": [],
   "source": []
  },
  {
   "cell_type": "markdown",
   "metadata": {},
   "source": [
    "#### [3] Variance filtering is performed by keeping the threshold value of 0.1 \n",
    "\n",
    "Only 2 features were filtered out by this approach. Those 2 features were important as mentioned in the problem statement, hence the code below is commented out."
   ]
  },
  {
   "cell_type": "code",
   "execution_count": null,
   "metadata": {},
   "outputs": [],
   "source": [
    "# train_feat, test_feat, train_lab, test_lab = train_test_split(df4, df4, test_size = 0.1, random_state = 31)\n",
    "# const_filter = VarianceThreshold(threshold = 0.1)\n",
    "# const_filter.fit(train_feat)\n",
    "# len(train_feat.columns[const_filter.get_support()])\n",
    "# low_filter_column = train_feat.columns[const_filter.get_support()]\n",
    "# low_filter_column.shape\n",
    "\n",
    "# quasi_filter = VarianceThreshold(threshold = 0.02)\n",
    "# quasi_filter.fit(train_feat)"
   ]
  },
  {
   "cell_type": "code",
   "execution_count": null,
   "metadata": {},
   "outputs": [],
   "source": []
  },
  {
   "cell_type": "code",
   "execution_count": null,
   "metadata": {},
   "outputs": [],
   "source": []
  },
  {
   "cell_type": "markdown",
   "metadata": {},
   "source": [
    "#### [4] Coorelation filtering is the last step. For this, a heatmap is plotted for the dataframe \"df4\" using seaborn library. Default correlation used by pandas is Pearson Correlation."
   ]
  },
  {
   "cell_type": "code",
   "execution_count": 20,
   "metadata": {},
   "outputs": [],
   "source": [
    "import seaborn as sb"
   ]
  },
  {
   "cell_type": "code",
   "execution_count": 21,
   "metadata": {},
   "outputs": [
    {
     "data": {
      "text/plain": [
       "<matplotlib.axes._subplots.AxesSubplot at 0x13984bf50>"
      ]
     },
     "execution_count": 21,
     "metadata": {},
     "output_type": "execute_result"
    },
    {
     "data": {
      "image/png": "[encoded data removed]",
      "text/plain": [
       "<Figure size 432x288 with 2 Axes>"
      ]
     },
     "metadata": {
      "needs_background": "light"
     },
     "output_type": "display_data"
    }
   ],
   "source": [
    "df_corr = df4.corr()\n",
    "sb.heatmap(df_corr)"
   ]
  },
  {
   "cell_type": "code",
   "execution_count": 22,
   "metadata": {},
   "outputs": [
    {
     "data": {
      "text/plain": [
       "(409, 409)"
      ]
     },
     "execution_count": 22,
     "metadata": {},
     "output_type": "execute_result"
    }
   ],
   "source": [
    "df_corr.shape"
   ]
  },
  {
   "cell_type": "code",
   "execution_count": null,
   "metadata": {},
   "outputs": [],
   "source": []
  },
  {
   "cell_type": "markdown",
   "metadata": {},
   "source": [
    "Here, the code is traversing the correlation matrix and marking false for the features that carry simiilar kind of information and have correlation value of more than 0.9.\n",
    "\n",
    "Then, I have create a new dataframe \"dataj\" and copied its content to a csv file as the final output."
   ]
  },
  {
   "cell_type": "code",
   "execution_count": 23,
   "metadata": {},
   "outputs": [],
   "source": [
    "#creating a pre_final_columns array\n",
    "pre_final_columns = np.full((df_corr.shape[0],), True, dtype=bool)\n",
    "\n",
    "#since correlation matrix is skew symmetric, we dont need to visit all the indexes\n",
    "#hence the second loop is starting from i+1\n",
    "\n",
    "for i in range(df_corr.shape[0]):\n",
    "    for j in range(i+1, df_corr.shape[0]):\n",
    "        if (df_corr.iloc[i,j] > 0.9):\n",
    "            if pre_final_columns[j] == True:\n",
    "                pre_final_columns[j] = False\n",
    "                \n",
    "final_columns = df4.columns[pre_final_columns]\n",
    "dataj = df4[final_columns]"
   ]
  },
  {
   "cell_type": "code",
   "execution_count": 25,
   "metadata": {},
   "outputs": [
    {
     "name": "stdout",
     "output_type": "stream",
     "text": [
      "Index(['GVKEY', 'DATADATE', 'DLRSN', 'FYRC', 'GIND', 'NAICS', 'SPCINDCD',\n",
      "       'SPCSECCD', 'STKO', 'DLDTE',\n",
      "       ...\n",
      "       'TXTUBXINTBS', 'TXTUBXINTIS', 'NAICSH', 'SICH', 'ADJEX_C', 'CSHTR_C',\n",
      "       'DVPSP_C', 'DVPSX_C', 'MKVALT', 'PRCC_C'],\n",
      "      dtype='object', length=293)\n"
     ]
    },
    {
     "data": {
      "text/plain": [
       "(374365, 293)"
      ]
     },
     "execution_count": 25,
     "metadata": {},
     "output_type": "execute_result"
    }
   ],
   "source": [
    "print(final_columns)\n",
    "dataj.shape\n"
   ]
  },
  {
   "cell_type": "code",
   "execution_count": 26,
   "metadata": {},
   "outputs": [
    {
     "data": {
      "text/html": [
       "<div>\n",
       "<style scoped>\n",
       "    .dataframe tbody tr th:only-of-type {\n",
       "        vertical-align: middle;\n",
       "    }\n",
       "\n",
       "    .dataframe tbody tr th {\n",
       "        vertical-align: top;\n",
       "    }\n",
       "\n",
       "    .dataframe thead th {\n",
       "        text-align: right;\n",
       "    }\n",
       "</style>\n",
       "<table border=\"1\" class=\"dataframe\">\n",
       "  <thead>\n",
       "    <tr style=\"text-align: right;\">\n",
       "      <th></th>\n",
       "      <th>GVKEY</th>\n",
       "      <th>DATADATE</th>\n",
       "      <th>DLRSN</th>\n",
       "      <th>FYRC</th>\n",
       "      <th>GIND</th>\n",
       "      <th>NAICS</th>\n",
       "      <th>SPCINDCD</th>\n",
       "      <th>SPCSECCD</th>\n",
       "      <th>STKO</th>\n",
       "      <th>DLDTE</th>\n",
       "      <th>...</th>\n",
       "      <th>TXTUBXINTBS</th>\n",
       "      <th>TXTUBXINTIS</th>\n",
       "      <th>NAICSH</th>\n",
       "      <th>SICH</th>\n",
       "      <th>ADJEX_C</th>\n",
       "      <th>CSHTR_C</th>\n",
       "      <th>DVPSP_C</th>\n",
       "      <th>DVPSX_C</th>\n",
       "      <th>MKVALT</th>\n",
       "      <th>PRCC_C</th>\n",
       "    </tr>\n",
       "  </thead>\n",
       "  <tbody>\n",
       "    <tr>\n",
       "      <td>0</td>\n",
       "      <td>1004</td>\n",
       "      <td>20110531</td>\n",
       "      <td>3.6343</td>\n",
       "      <td>5</td>\n",
       "      <td>201010.0</td>\n",
       "      <td>423860.0</td>\n",
       "      <td>110.0</td>\n",
       "      <td>925.0</td>\n",
       "      <td>0.0</td>\n",
       "      <td>2.001030e+07</td>\n",
       "      <td>...</td>\n",
       "      <td>16.8683</td>\n",
       "      <td>1.6582</td>\n",
       "      <td>423860.0</td>\n",
       "      <td>5080.0</td>\n",
       "      <td>1.0</td>\n",
       "      <td>88443622.0</td>\n",
       "      <td>0.000</td>\n",
       "      <td>0.000</td>\n",
       "      <td>1049.8206</td>\n",
       "      <td>27.47</td>\n",
       "    </tr>\n",
       "    <tr>\n",
       "      <td>1</td>\n",
       "      <td>1004</td>\n",
       "      <td>20120531</td>\n",
       "      <td>3.6343</td>\n",
       "      <td>5</td>\n",
       "      <td>201010.0</td>\n",
       "      <td>423860.0</td>\n",
       "      <td>110.0</td>\n",
       "      <td>925.0</td>\n",
       "      <td>0.0</td>\n",
       "      <td>2.001030e+07</td>\n",
       "      <td>...</td>\n",
       "      <td>16.8683</td>\n",
       "      <td>1.6582</td>\n",
       "      <td>423860.0</td>\n",
       "      <td>5080.0</td>\n",
       "      <td>1.0</td>\n",
       "      <td>80676553.0</td>\n",
       "      <td>0.225</td>\n",
       "      <td>0.225</td>\n",
       "      <td>485.2897</td>\n",
       "      <td>19.17</td>\n",
       "    </tr>\n",
       "    <tr>\n",
       "      <td>2</td>\n",
       "      <td>1004</td>\n",
       "      <td>20130531</td>\n",
       "      <td>3.6343</td>\n",
       "      <td>5</td>\n",
       "      <td>201010.0</td>\n",
       "      <td>423860.0</td>\n",
       "      <td>110.0</td>\n",
       "      <td>925.0</td>\n",
       "      <td>0.0</td>\n",
       "      <td>2.001030e+07</td>\n",
       "      <td>...</td>\n",
       "      <td>16.8683</td>\n",
       "      <td>1.6582</td>\n",
       "      <td>423860.0</td>\n",
       "      <td>5080.0</td>\n",
       "      <td>1.0</td>\n",
       "      <td>85991627.0</td>\n",
       "      <td>0.300</td>\n",
       "      <td>0.300</td>\n",
       "      <td>790.0029</td>\n",
       "      <td>18.68</td>\n",
       "    </tr>\n",
       "    <tr>\n",
       "      <td>3</td>\n",
       "      <td>1004</td>\n",
       "      <td>20140531</td>\n",
       "      <td>3.6343</td>\n",
       "      <td>5</td>\n",
       "      <td>201010.0</td>\n",
       "      <td>423860.0</td>\n",
       "      <td>110.0</td>\n",
       "      <td>925.0</td>\n",
       "      <td>0.0</td>\n",
       "      <td>2.001030e+07</td>\n",
       "      <td>...</td>\n",
       "      <td>16.8683</td>\n",
       "      <td>1.6582</td>\n",
       "      <td>423860.0</td>\n",
       "      <td>5080.0</td>\n",
       "      <td>1.0</td>\n",
       "      <td>68957400.0</td>\n",
       "      <td>0.300</td>\n",
       "      <td>0.300</td>\n",
       "      <td>961.3080</td>\n",
       "      <td>28.01</td>\n",
       "    </tr>\n",
       "    <tr>\n",
       "      <td>4</td>\n",
       "      <td>1004</td>\n",
       "      <td>20150531</td>\n",
       "      <td>3.6343</td>\n",
       "      <td>5</td>\n",
       "      <td>201010.0</td>\n",
       "      <td>423860.0</td>\n",
       "      <td>110.0</td>\n",
       "      <td>925.0</td>\n",
       "      <td>0.0</td>\n",
       "      <td>2.001030e+07</td>\n",
       "      <td>...</td>\n",
       "      <td>16.8683</td>\n",
       "      <td>1.6582</td>\n",
       "      <td>423860.0</td>\n",
       "      <td>5080.0</td>\n",
       "      <td>1.0</td>\n",
       "      <td>71466584.0</td>\n",
       "      <td>0.300</td>\n",
       "      <td>0.300</td>\n",
       "      <td>1046.3954</td>\n",
       "      <td>27.78</td>\n",
       "    </tr>\n",
       "  </tbody>\n",
       "</table>\n",
       "<p>5 rows × 293 columns</p>\n",
       "</div>"
      ],
      "text/plain": [
       "   GVKEY  DATADATE   DLRSN  FYRC      GIND     NAICS  SPCINDCD  SPCSECCD  \\\n",
       "0   1004  20110531  3.6343     5  201010.0  423860.0     110.0     925.0   \n",
       "1   1004  20120531  3.6343     5  201010.0  423860.0     110.0     925.0   \n",
       "2   1004  20130531  3.6343     5  201010.0  423860.0     110.0     925.0   \n",
       "3   1004  20140531  3.6343     5  201010.0  423860.0     110.0     925.0   \n",
       "4   1004  20150531  3.6343     5  201010.0  423860.0     110.0     925.0   \n",
       "\n",
       "   STKO         DLDTE  ...  TXTUBXINTBS  TXTUBXINTIS    NAICSH    SICH  \\\n",
       "0   0.0  2.001030e+07  ...      16.8683       1.6582  423860.0  5080.0   \n",
       "1   0.0  2.001030e+07  ...      16.8683       1.6582  423860.0  5080.0   \n",
       "2   0.0  2.001030e+07  ...      16.8683       1.6582  423860.0  5080.0   \n",
       "3   0.0  2.001030e+07  ...      16.8683       1.6582  423860.0  5080.0   \n",
       "4   0.0  2.001030e+07  ...      16.8683       1.6582  423860.0  5080.0   \n",
       "\n",
       "   ADJEX_C     CSHTR_C  DVPSP_C  DVPSX_C     MKVALT  PRCC_C  \n",
       "0      1.0  88443622.0    0.000    0.000  1049.8206   27.47  \n",
       "1      1.0  80676553.0    0.225    0.225   485.2897   19.17  \n",
       "2      1.0  85991627.0    0.300    0.300   790.0029   18.68  \n",
       "3      1.0  68957400.0    0.300    0.300   961.3080   28.01  \n",
       "4      1.0  71466584.0    0.300    0.300  1046.3954   27.78  \n",
       "\n",
       "[5 rows x 293 columns]"
      ]
     },
     "execution_count": 26,
     "metadata": {},
     "output_type": "execute_result"
    }
   ],
   "source": [
    "dataj.head()"
   ]
  },
  {
   "cell_type": "code",
   "execution_count": 29,
   "metadata": {},
   "outputs": [],
   "source": [
    "dataj.to_csv(\"Reduced_Features_Final.csv\")"
   ]
  },
  {
   "cell_type": "code",
   "execution_count": 30,
   "metadata": {},
   "outputs": [
    {
     "data": {
      "text/plain": [
       "(374365, 419)"
      ]
     },
     "execution_count": 30,
     "metadata": {},
     "output_type": "execute_result"
    }
   ],
   "source": [
    "df.shape"
   ]
  },
  {
   "cell_type": "code",
   "execution_count": 31,
   "metadata": {},
   "outputs": [
    {
     "data": {
      "text/plain": [
       "(374365, 293)"
      ]
     },
     "execution_count": 31,
     "metadata": {},
     "output_type": "execute_result"
    }
   ],
   "source": [
    "dataj.shape"
   ]
  },
  {
   "cell_type": "code",
   "execution_count": null,
   "metadata": {},
   "outputs": [],
   "source": []
  },
  {
   "cell_type": "code",
   "execution_count": null,
   "metadata": {},
   "outputs": [],
   "source": []
  }
 ],
 "metadata": {
  "kernelspec": {
   "display_name": "Python 3",
   "language": "python",
   "name": "python3"
  },
  "language_info": {
   "codemirror_mode": {
    "name": "ipython",
    "version": 3
   },
   "file_extension": ".py",
   "mimetype": "text/x-python",
   "name": "python",
   "nbconvert_exporter": "python",
   "pygments_lexer": "ipython3",
   "version": "3.7.6"
  }
 },
 "nbformat": 4,
 "nbformat_minor": 2
}
